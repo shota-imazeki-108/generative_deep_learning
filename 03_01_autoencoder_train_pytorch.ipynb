{
  "nbformat": 4,
  "nbformat_minor": 0,
  "metadata": {
    "colab": {
      "name": "03_01_autoencoder_train_pytorch.ipynb",
      "provenance": []
    },
    "kernelspec": {
      "name": "python3",
      "display_name": "Python 3"
    },
    "accelerator": "GPU"
  },
  "cells": [
    {
      "cell_type": "markdown",
      "metadata": {
        "id": "bGNucpxjQNmI"
      },
      "source": [
        "# Setup"
      ]
    },
    {
      "cell_type": "code",
      "metadata": {
        "colab": {
          "base_uri": "https://localhost:8080/"
        },
        "id": "TNyI1oVkO2QE",
        "outputId": "dfe950e5-4030-4b9f-e6b0-7b3a755708fb"
      },
      "source": [
        "from google.colab import drive\n",
        "drive.mount('/content/drive')"
      ],
      "execution_count": 34,
      "outputs": [
        {
          "output_type": "stream",
          "text": [
            "Drive already mounted at /content/drive; to attempt to forcibly remount, call drive.mount(\"/content/drive\", force_remount=True).\n"
          ],
          "name": "stdout"
        }
      ]
    },
    {
      "cell_type": "code",
      "metadata": {
        "colab": {
          "base_uri": "https://localhost:8080/"
        },
        "id": "jUsm_0hcPBq-",
        "outputId": "f8f3300e-9070-4a71-8e40-6bcf977ab77d"
      },
      "source": [
        "cd /content/drive/MyDrive/generative_deep_learning"
      ],
      "execution_count": 35,
      "outputs": [
        {
          "output_type": "stream",
          "text": [
            "/content/drive/MyDrive/generative_deep_learning\n"
          ],
          "name": "stdout"
        }
      ]
    },
    {
      "cell_type": "code",
      "metadata": {
        "id": "h2BZI4g2PhBm"
      },
      "source": [
        "# !git clone -b tensorflow_2 https://github.com/davidADSP/GDL_code.git"
      ],
      "execution_count": 36,
      "outputs": []
    },
    {
      "cell_type": "code",
      "metadata": {
        "colab": {
          "base_uri": "https://localhost:8080/"
        },
        "id": "GYaN8rsaP4AP",
        "outputId": "de07d281-5e6c-40e5-d512-6eeb3787b223"
      },
      "source": [
        "cd GDL_code"
      ],
      "execution_count": 37,
      "outputs": [
        {
          "output_type": "stream",
          "text": [
            "/content/drive/MyDrive/generative_deep_learning/GDL_code\n"
          ],
          "name": "stdout"
        }
      ]
    },
    {
      "cell_type": "markdown",
      "metadata": {
        "id": "KHtPpyVDQIsQ"
      },
      "source": [
        "# Import"
      ]
    },
    {
      "cell_type": "code",
      "metadata": {
        "id": "6UFoLnO3P99c"
      },
      "source": [
        "import os\n",
        "from utils.loaders import load_mnist\n",
        "\n",
        "import torch\n",
        "import torch.nn as nn\n",
        "import torch.nn.functional as F\n",
        "import torch.optim as optim\n",
        "from tqdm import tqdm"
      ],
      "execution_count": 38,
      "outputs": []
    },
    {
      "cell_type": "code",
      "metadata": {
        "colab": {
          "base_uri": "https://localhost:8080/"
        },
        "id": "grGDVD5eQU6T",
        "outputId": "f1ce4c27-85c9-42e6-8f72-531bf8fe8d42"
      },
      "source": [
        "DEVICE= 'cuda:0' if torch.cuda.is_available() else 'cpu'\n",
        "LEARNING_RATE = 0.0005\n",
        "BATCH_SIZE = 32\n",
        "EPOCHS = 200\n",
        "print(DEVICE)"
      ],
      "execution_count": 39,
      "outputs": [
        {
          "output_type": "stream",
          "text": [
            "cuda:0\n"
          ],
          "name": "stdout"
        }
      ]
    },
    {
      "cell_type": "code",
      "metadata": {
        "id": "kVlwIyjvQsPk"
      },
      "source": [
        "(x_train, y_train), (x_test, y_test) = load_mnist()"
      ],
      "execution_count": 40,
      "outputs": []
    },
    {
      "cell_type": "markdown",
      "metadata": {
        "id": "sHWwSfAvQzjU"
      },
      "source": [
        "# Dataset"
      ]
    },
    {
      "cell_type": "code",
      "metadata": {
        "colab": {
          "base_uri": "https://localhost:8080/"
        },
        "id": "_VksUzOwQx9Y",
        "outputId": "84f4d6e5-1278-43e1-bc6b-14edf9aeaef6"
      },
      "source": [
        "def keras_to_torch_tensor(array):\n",
        "    array = array.transpose(0, 3, 1, 2) # keras: N x H x W x C -> torch: N x C x H x W\n",
        "    array = torch.tensor(array, dtype=torch.float32).to(DEVICE)\n",
        "    return array\n",
        "\n",
        "def y_to_torch_tensor(array):\n",
        "    return torch.tensor(array, dtype=torch.float32).unsqueeze(-1).to(DEVICE)\n",
        "\n",
        "x_train = keras_to_torch_tensor(x_train)\n",
        "y_train = y_to_torch_tensor(y_train)\n",
        "\n",
        "x_test = keras_to_torch_tensor(x_test)\n",
        "y_test = y_to_torch_tensor(y_test)\n",
        "\n",
        "print(x_train.shape)"
      ],
      "execution_count": 41,
      "outputs": [
        {
          "output_type": "stream",
          "text": [
            "torch.Size([60000, 1, 28, 28])\n"
          ],
          "name": "stdout"
        }
      ]
    },
    {
      "cell_type": "code",
      "metadata": {
        "id": "UYWcVu-3Q2oY"
      },
      "source": [
        "train = torch.utils.data.TensorDataset(x_train, y_train)\n",
        "test = torch.utils.data.TensorDataset(x_test, y_test)"
      ],
      "execution_count": 42,
      "outputs": []
    },
    {
      "cell_type": "markdown",
      "metadata": {
        "id": "Zc-Eb_G5Q6Ci"
      },
      "source": [
        "# Model"
      ]
    },
    {
      "cell_type": "code",
      "metadata": {
        "id": "3dxHCa1cQ5Jy"
      },
      "source": [
        "class Encoder(nn.Module):\n",
        "    def __init__(self):\n",
        "        super(Encoder, self).__init__()\n",
        "        self.conv1 = torch.nn.Conv2d(in_channels=1, out_channels=32, kernel_size=3, stride=1, padding=1)\n",
        "        self.l_relu1 = torch.nn.LeakyReLU()\n",
        "        self.conv2 = torch.nn.Conv2d(in_channels=32, out_channels=64, kernel_size=3, stride=2, padding=1)\n",
        "        self.l_relu2 = torch.nn.LeakyReLU()\n",
        "        self.conv3 = torch.nn.Conv2d(in_channels=64, out_channels=64, kernel_size=3, stride=2, padding=1)\n",
        "        self.l_relu3 = torch.nn.LeakyReLU()\n",
        "        self.conv4 = torch.nn.Conv2d(in_channels=64, out_channels=64, kernel_size=3, stride=1, padding=1)\n",
        "        self.l_relu4 = torch.nn.LeakyReLU()\n",
        "        self.ln = nn.Linear(3136, 2)\n",
        "        \n",
        "        \n",
        "    def forward(self, x):\n",
        "        x = self.conv1(x)\n",
        "        x = self.l_relu1(x)\n",
        "        x = self.conv2(x)\n",
        "        x = self.l_relu2(x)\n",
        "        x = self.conv3(x)\n",
        "        x = self.l_relu3(x)\n",
        "        x = self.conv4(x)\n",
        "        x = self.l_relu4(x)\n",
        "        x = torch.flatten(x, start_dim=1)\n",
        "        x = self.ln(x)\n",
        "        return x"
      ],
      "execution_count": 43,
      "outputs": []
    },
    {
      "cell_type": "code",
      "metadata": {
        "id": "tzyqWiXMQ8ro"
      },
      "source": [
        "class Decoder(nn.Module):\n",
        "    def __init__(self):\n",
        "        super(Decoder, self).__init__()\n",
        "        self.ln = nn.Linear(2, 3136)\n",
        "        self.conv1 = torch.nn.ConvTranspose2d(in_channels=64, out_channels=64, kernel_size=3, stride=1, padding=1)\n",
        "        self.l_relu1 = torch.nn.LeakyReLU()\n",
        "        self.conv2 = torch.nn.ConvTranspose2d(in_channels=64, out_channels=64, kernel_size=2, stride=2)\n",
        "        self.l_relu2 = torch.nn.LeakyReLU()\n",
        "        self.conv3 = torch.nn.ConvTranspose2d(in_channels=64, out_channels=64, kernel_size=2, stride=2)\n",
        "        self.l_relu3 = torch.nn.LeakyReLU()\n",
        "        self.conv4 = torch.nn.ConvTranspose2d(in_channels=64, out_channels=1, kernel_size=3, stride=1, padding=1)\n",
        "        self.sigmoid = nn.Sigmoid()\n",
        "        \n",
        "    def forward(self, x):\n",
        "        x = self.ln(x)\n",
        "        x = x.reshape(-1, 64, 7, 7)\n",
        "        x = self.conv1(x)\n",
        "        x = self.l_relu1(x)\n",
        "        x = self.conv2(x)\n",
        "        x = self.l_relu2(x)\n",
        "        x = self.conv3(x)\n",
        "        x = self.l_relu3(x)\n",
        "        x = self.conv4(x)\n",
        "        x - self.sigmoid(x)\n",
        "        return x"
      ],
      "execution_count": 44,
      "outputs": []
    },
    {
      "cell_type": "code",
      "metadata": {
        "id": "PBfO5H5NQ-Ht"
      },
      "source": [
        "class AutoEncoder(nn.Module):\n",
        "    def __init__(self):\n",
        "        super(AutoEncoder, self).__init__()\n",
        "        self.encoder = Encoder()\n",
        "        self.decoder = Decoder()\n",
        "        \n",
        "    def forward(self, x):\n",
        "        x = self.encoder(x)\n",
        "        x = self.decoder(x)\n",
        "        return x"
      ],
      "execution_count": 45,
      "outputs": []
    },
    {
      "cell_type": "markdown",
      "metadata": {
        "id": "uU1XyjfdRAyF"
      },
      "source": [
        "# Loss"
      ]
    },
    {
      "cell_type": "code",
      "metadata": {
        "id": "nvG-q2r-RB9-"
      },
      "source": [
        "def RMSELoss(yhat,y):\n",
        "    return torch.sqrt(torch.mean((yhat-y)**2))"
      ],
      "execution_count": 46,
      "outputs": []
    },
    {
      "cell_type": "markdown",
      "metadata": {
        "id": "9I6E2JbKRD_1"
      },
      "source": [
        "# Train"
      ]
    },
    {
      "cell_type": "code",
      "metadata": {
        "id": "ZKc7_cidRFeo"
      },
      "source": [
        "def train_fn(train):\n",
        "    model = AutoEncoder()\n",
        "    optimizer = torch.optim.Adam(model.parameters(), lr=LEARNING_RATE)\n",
        "    loss_fn = RMSELoss\n",
        "    train_loader = torch.utils.data.DataLoader(train, batch_size=BATCH_SIZE, shuffle=True)\n",
        "    \n",
        "    for epoch in range(EPOCHS):\n",
        "        model.to(DEVICE)\n",
        "        model.train()\n",
        "        avg_loss = 0.\n",
        "        \n",
        "        for x_batch, y_batch in tqdm(train_loader, disable=True):\n",
        "            y_pred = model(x_batch)\n",
        "            loss = loss_fn(y_pred, x_batch)\n",
        "            optimizer.zero_grad()\n",
        "            loss.backward()\n",
        "            optimizer.step()\n",
        "            avg_loss += loss.item() / len(train_loader)\n",
        "        print(f'Epoch {epoch + 1}/{EPOCHS} \\t loss={avg_loss}')\n",
        "    return model"
      ],
      "execution_count": 47,
      "outputs": []
    },
    {
      "cell_type": "code",
      "metadata": {
        "id": "3hy0bsCaRHhk"
      },
      "source": [
        "model = train_fn(train)"
      ],
      "execution_count": null,
      "outputs": []
    },
    {
      "cell_type": "code",
      "metadata": {
        "id": "lwqYUAgGRMR3"
      },
      "source": [
        "torch.save(model.state_dict(), '../output/model_03_01.pth')"
      ],
      "execution_count": null,
      "outputs": []
    },
    {
      "cell_type": "code",
      "metadata": {
        "id": "9rymK32URxhc"
      },
      "source": [
        ""
      ],
      "execution_count": null,
      "outputs": []
    }
  ]
}